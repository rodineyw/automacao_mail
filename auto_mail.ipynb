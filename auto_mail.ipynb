{
 "cells": [
  {
   "cell_type": "code",
   "execution_count": 145,
   "metadata": {},
   "outputs": [],
   "source": [
    "import smtplib\n",
    "from email.mime.multipart import MIMEMultipart\n",
    "from email.mime.text import MIMEText\n",
    "from email.mime.application import MIMEApplication\n",
    "from email.mime.image import MIMEImage \n",
    "from email.mime.base import MIMEBase\n",
    "from email import encoders"
   ]
  },
  {
   "cell_type": "code",
   "execution_count": 146,
   "metadata": {},
   "outputs": [],
   "source": [
    "# Configurar as informações do servidor SMTP e as credenciais\n",
    "smtp_server = 'smtp.office365.com'\n",
    "smtp_port = 587\n",
    "smtp_user = 'USUARIO'\n",
    "smtp_passwrod = 'SENHA'"
   ]
  },
  {
   "cell_type": "code",
   "execution_count": 147,
   "metadata": {},
   "outputs": [],
   "source": [
    "# Criar o objeto MIMEMultipart\n",
    "msg = MIMEMultipart()\n",
    "msg['From'] = 'EMAIL_ORIGEM'\n",
    "msg['To'] = 'EMAIL_DESTINATARIO'\n",
    "msg['Subject'] = 'Você foi selecionado!' "
   ]
  },
  {
   "cell_type": "code",
   "execution_count": 148,
   "metadata": {},
   "outputs": [],
   "source": [
    "# Adicionar o corpo do e-mail\n",
    "#body = 'Você foi selecionado para participar do teste, de automação em Python!'\n",
    "#msg.attach(MIMEText(body, ))\n",
    "\n",
    "# Adicionar o corpo do e-mail em HTML\n",
    "html = \"\"\"\n",
    "<html>\n",
    "<body>\n",
    "<h3>MENSAGEM AQUI </h3>\n",
    "<p>Atenciosamente</p>\n",
    "<h4>TEXTO AQUI</h4>\n",
    "<p><a href=\"https://link.com\">Acesse o link</a></p>\n",
    "</body>\n",
    "</html>\n",
    "\"\"\"\n",
    "\n",
    "msg.attach(MIMEText(html, 'html'))"
   ]
  },
  {
   "cell_type": "code",
   "execution_count": 149,
   "metadata": {},
   "outputs": [],
   "source": [
    "# Anexar uma imagem à mensagem\n",
    "with open('image001.png', 'rb') as image_file:\n",
    " image = MIMEImage(image_file.read(), _subtype='png')\n",
    " image.add_header('Content-ID', '<imagem_assinatura')\n",
    " msg.attach(image)"
   ]
  },
  {
   "cell_type": "code",
   "execution_count": 150,
   "metadata": {},
   "outputs": [],
   "source": [
    "# Anexar arquivo ao e-mail\n",
    "#with open('Apostila Jornada Python - Aula 2.pdf', 'rb') as attachment:\n",
    "# part = MIMEApplication(attachment.read(), Name='Apostila Jornada Python - Aula 2.pdf')\n",
    "# part['Content-Disposition'] = f'attachment. filename={\"ARQUIVO.pdf\"}'\n",
    "# msg.attach(part)"
   ]
  },
  {
   "cell_type": "code",
   "execution_count": 151,
   "metadata": {},
   "outputs": [
    {
     "name": "stdout",
     "output_type": "stream",
     "text": [
      "E-mail enviado com sucesso!\n"
     ]
    }
   ],
   "source": [
    "# Iniciar a conexão SMTP e enviar o e-mail\n",
    "try:\n",
    " server = smtplib.SMTP(smtp_server, smtp_port)\n",
    " server.starttls()\n",
    " server.login(smtp_user, smtp_passwrod)\n",
    " server.sendmail(smtp_user, msg['To'], msg.as_string())\n",
    " server.quit()\n",
    " print('E-mail enviado com sucesso!')\n",
    "except Exception as e:\n",
    " print('Erro ao enviar e-mail: {str(e)}') "
   ]
  }
 ],
 "metadata": {
  "kernelspec": {
   "display_name": "venv",
   "language": "python",
   "name": "python3"
  },
  "language_info": {
   "codemirror_mode": {
    "name": "ipython",
    "version": 3
   },
   "file_extension": ".py",
   "mimetype": "text/x-python",
   "name": "python",
   "nbconvert_exporter": "python",
   "pygments_lexer": "ipython3",
   "version": "3.11.5"
  }
 },
 "nbformat": 4,
 "nbformat_minor": 2
}
