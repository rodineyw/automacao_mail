{
 "cells": [
  {
   "cell_type": "code",
   "execution_count": 1,
   "metadata": {},
   "outputs": [
    {
     "name": "stdout",
     "output_type": "stream",
     "text": [
      "Iniciando o navegador\n"
     ]
    }
   ],
   "source": [
    "from selenium import webdriver \n",
    "from webdriver_manager.chrome import ChromeDriverManager \n",
    "from selenium.webdriver.chrome.service import Service\n",
    "from time import sleep\n",
    "\n",
    "servico = Service(ChromeDriverManager().install())\n",
    "\n",
    "navegador = webdriver.Chrome(service=servico)\n",
    "\n",
    "# Passo 1 = Iniciando o navegador\n",
    "print('Iniciando o navegador')\n",
    "navegador.get(\"https://outlook.com/login\")\n",
    "sleep(10)"
   ]
  },
  {
   "cell_type": "code",
   "execution_count": 2,
   "metadata": {},
   "outputs": [
    {
     "name": "stdout",
     "output_type": "stream",
     "text": [
      "Digitando e-mail\n",
      "Digitando senha\n",
      "Confirmando para continuar conectado\n"
     ]
    }
   ],
   "source": [
    "# Passo 2 = Preenchendo o e-mail e Senha\n",
    "print('Digitando e-mail')\n",
    "navegador.find_element('xpath', '/html/body/div/form[1]/div/div/div[2]/div[1]/div/div/div/div[2]/div[1]/div[3]/div/div/div/div[2]/div[2]/div/input[1]').send_keys('USUARIO')\n",
    "sleep(0.5)\n",
    "navegador.find_element('xpath', '/html/body/div/form[1]/div/div/div[2]/div[1]/div/div/div/div[2]/div[1]/div[3]/div/div/div/div[4]/div/div/div/div/input').click()\n",
    "sleep(5)\n",
    "\n",
    "print('Digitando senha')\n",
    "navegador.find_element('xpath', '/html/body/div/form[1]/div/div/div[2]/div[1]/div/div/div/div/div/div[3]/div/div[2]/div/div[3]/div/div[2]/input').send_keys('SENHA')\n",
    "sleep(0.5)\n",
    "navegador.find_element('xpath', '/html/body/div/form[1]/div/div/div[2]/div[1]/div/div/div/div/div/div[3]/div/div[2]/div/div[4]/div[2]/div/div/div/div/input').click()\n",
    "sleep(1)\n",
    "\n",
    "# Passo 3 = Confirmação para continuar conectado\n",
    "print('Confirmando para continuar conectado')\n",
    "navegador.find_element('xpath', '/html/body/div/form/div/div/div[2]/div[1]/div/div/div/div/div/div[3]/div/div[2]/div/div[3]/div[1]/div/label/input').click()\n",
    "sleep(0.5)\n",
    "\n",
    "navegador.find_element('xpath', '/html/body/div/form/div/div/div[2]/div[1]/div/div/div/div/div/div[3]/div/div[2]/div/div[3]/div[2]/div/div/div[2]/input').click()"
   ]
  }
 ],
 "metadata": {
  "kernelspec": {
   "display_name": "venv",
   "language": "python",
   "name": "python3"
  },
  "language_info": {
   "codemirror_mode": {
    "name": "ipython",
    "version": 3
   },
   "file_extension": ".py",
   "mimetype": "text/x-python",
   "name": "python",
   "nbconvert_exporter": "python",
   "pygments_lexer": "ipython3",
   "version": "3.11.5"
  }
 },
 "nbformat": 4,
 "nbformat_minor": 2
}
